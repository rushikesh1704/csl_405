{
  "metadata": {
    "kernelspec": {
      "name": "python",
      "display_name": "Python (Pyodide)",
      "language": "python"
    },
    "language_info": {
      "codemirror_mode": {
        "name": "python",
        "version": 3
      },
      "file_extension": ".py",
      "mimetype": "text/x-python",
      "name": "python",
      "nbconvert_exporter": "python",
      "pygments_lexer": "ipython3",
      "version": "3.8"
    }
  },
  "nbformat_minor": 5,
  "nbformat": 4,
  "cells": [
    {
      "id": "4fa5df42-3cf0-4862-8b40-7b31fb977f5a",
      "cell_type": "markdown",
      "source": "### Rushikesh 26",
      "metadata": {}
    },
    {
      "id": "137c5fee-5bd1-4da7-83f8-968d97a3fc6b",
      "cell_type": "markdown",
      "source": "### Exp 02",
      "metadata": {}
    },
    {
      "id": "af0e87b7-8e81-4d15-baf4-1abefee21aac",
      "cell_type": "code",
      "source": "class Employee:\n    def __init__ (\n            self,\n            designation : str = 'Developer',\n            frontend : bool = True,\n            backend : bool = True\n    ):\n        self.designation = designation\n        self.frontend = frontend\n        self.backend = backend\n\n    def __repr__ (self):\n        return '{}'.format (self.designation, self.frontend, self.backend)\n    \n    ### Write the your method over here.\n    def verifier (self):\n        if self.frontend and  self.backend :\n            print ('Fullstack Developer')\n        elif self.backend :\n            print (\"Backend developer\")\n        elif self.frontend :\n            print (\"Front developer\")\n        else:\n            print(\"employee is not skilled in any of the field\")    \n\nif __name__ == '__main__':\n    firstEmployee = Employee ()\n    firstEmployee.verifier()\n\n    # Call the method here to display output.",
      "metadata": {
        "trusted": true
      },
      "outputs": [
        {
          "name": "stdout",
          "output_type": "stream",
          "text": "Fullstack Developer\n"
        }
      ],
      "execution_count": 2
    }
  ]
}