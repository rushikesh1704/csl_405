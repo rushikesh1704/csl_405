{
  "metadata": {
    "kernelspec": {
      "name": "python",
      "display_name": "Python (Pyodide)",
      "language": "python"
    },
    "language_info": {
      "codemirror_mode": {
        "name": "python",
        "version": 3
      },
      "file_extension": ".py",
      "mimetype": "text/x-python",
      "name": "python",
      "nbconvert_exporter": "python",
      "pygments_lexer": "ipython3",
      "version": "3.8"
    }
  },
  "nbformat_minor": 5,
  "nbformat": 4,
  "cells": [
    {
      "id": "5bd51d16-0e33-47d9-9dc6-ba807055ce95",
      "cell_type": "code",
      "source": "from pathlib import Path\n\nfiles = [f.name for f in Path('.').iterdir() if f.is_file()]\n\nprint(\"Files in the current dirctory:\")\nfor file in files:\n    print(file)",
      "metadata": {
        "trusted": true
      },
      "outputs": [
        {
          "name": "stdout",
          "output_type": "stream",
          "text": "Files in the current dirctory:\nIntro.ipynb\nexp-03.ipynb\nexp-04.txt\n"
        }
      ],
      "execution_count": 2
    },
    {
      "id": "f0404b49-467e-4c9a-986e-37123e564480",
      "cell_type": "code",
      "source": "",
      "metadata": {
        "trusted": true
      },
      "outputs": [],
      "execution_count": null
    }
  ]
}