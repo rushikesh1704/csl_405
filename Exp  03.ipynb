{
  "metadata": {
    "kernelspec": {
      "name": "python",
      "display_name": "Python (Pyodide)",
      "language": "python"
    },
    "language_info": {
      "codemirror_mode": {
        "name": "python",
        "version": 3
      },
      "file_extension": ".py",
      "mimetype": "text/x-python",
      "name": "python",
      "nbconvert_exporter": "python",
      "pygments_lexer": "ipython3",
      "version": "3.8"
    }
  },
  "nbformat_minor": 5,
  "nbformat": 4,
  "cells": [
    {
      "id": "1e1b46a6-5215-42c7-94d7-ccd35993b712",
      "cell_type": "markdown",
      "source": "### Rushikesh 26",
      "metadata": {}
    },
    {
      "id": "6a2327d1-8e73-4f25-b56e-9c57ed0fee51",
      "cell_type": "markdown",
      "source": "### Exp 03",
      "metadata": {}
    },
    {
      "id": "104cddf2-5767-4874-a793-f92b0fd545c2",
      "cell_type": "code",
      "source": "if __name__ == '__main__':\n    with open ('./file.txt', 'r') as file:\n        lines = file.readlines ()\n        numberOfLines = len (lines)\n        numberOfWords = sum (len (line.split()) for line in lines)\n        \n        # Write numberOfCharacters over here.\n        numberOfCharacters = sum(len(line) for line in lines)\n        \n    print(f\"Lines: {numberOfLines}\")\n    print(f\"Words: {numberOfWords}\")\n    print(f\"Characters: {numberOfCharacters}\")\n\n    ",
      "metadata": {
        "trusted": true
      },
      "outputs": [
        {
          "name": "stdout",
          "output_type": "stream",
          "text": "Lines: 4\nWords: 4\nCharacters: 30\n"
        }
      ],
      "execution_count": 8
    },
    {
      "id": "6aa37bb8-7173-4caa-b6ec-7b513a5559c7",
      "cell_type": "code",
      "source": "",
      "metadata": {
        "trusted": true
      },
      "outputs": [],
      "execution_count": null
    }
  ]
}